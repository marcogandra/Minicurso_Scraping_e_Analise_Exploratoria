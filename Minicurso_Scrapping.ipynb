{
 "cells": [
  {
   "cell_type": "markdown",
   "metadata": {},
   "source": [
    "## Minicurso - Web Scraping\n",
    "\n",
    "## Mateus Pedrino - Igor Martinelli\n",
    "\n",
    "Este notebook possui o objetivo de introduzir a estrutura genérica e como funcionam páginas html e como podemos utilizar suas tags para extrair informações por meio de web scraping."
   ]
  },
  {
   "cell_type": "code",
   "execution_count": 4,
   "metadata": {},
   "outputs": [
    {
     "data": {
      "text/html": [
       "<style>.container { width:95% !important; }</style>"
      ],
      "text/plain": [
       "<IPython.core.display.HTML object>"
      ]
     },
     "metadata": {},
     "output_type": "display_data"
    }
   ],
   "source": [
    "from IPython.core.display import display, HTML\n",
    "display(HTML(\"<style>.container { width:95% !important; }</style>\"))"
   ]
  },
  {
   "cell_type": "markdown",
   "metadata": {},
   "source": [
    "# Nesse curso iremos cobrir\n",
    "\n",
    "* Introdução básica a HTML/CSS\n",
    "* Como extrair conteúdos de páginas HTML\n",
    "* Técnicas para navegação e aquisição de páginas da web.\n",
    "\n",
    "\n",
    "# Uma introdução básica ao HTML \n",
    "\n",
    "HTML(**H**yper **T**ext **M**arkup **L**anguage) é uma linguagem de marcação utilizada na construção de páginas Web. Além do HTML, as páginas web contam também com o CSS (**C**ascading **S**tyle **S**heets), que dá um visual mais bonito para as páginas e o JavaScript, linguagem que constrói as páginas e é responsável por possibilitar uma interação robusta aos documentos web.\n",
    "\n",
    "O HTML é construído basicamente por uma série de tags que possuem diversas ações capazes de descrever um conteúdo. A sintaxe genérica para uma tag é composta por\n",
    "\n",
    "```html\n",
    "<nome_da_tag atributo_da_tag_x=\"valor_do_atributo_x_1 valor_do_atributo_x_2\" atributo da tag_y=\"valor_do_atributo_y_1 ...\"> conteudo_da_tag</nome_da_tag>\n",
    "```\n",
    "\n",
    "As tags HTML podem estar contidas umas dentro das outras, o que faz com que essas se relacionem entre si:\n",
    "\n",
    "```html\n",
    "<div>\n",
    "    <ul>\n",
    "        <li>\n",
    "        <li>\n",
    "   </ul>\n",
    "</div>\n",
    "```\n",
    "\n",
    "* `li` é uma tag filha de `ul` e descendente de `div`\n",
    "* `ul` é uma tag filha de `div` e descendente direta de div\n",
    "\n",
    "\n",
    "# Vamos agora mostrar uma estrutura simples em HTML"
   ]
  },
  {
   "cell_type": "code",
   "execution_count": 1,
   "metadata": {},
   "outputs": [
    {
     "data": {
      "text/html": [
       "\n",
       "<!DOCTYPE html>\n",
       "<html>\n",
       "  <head>\n",
       "    <title>Page Title</title>\n",
       "  </head>\n",
       "  \n",
       "  <body>\n",
       "    <h1>Hello World</h1>\n",
       "    \n",
       "    <h2>Hello world header 2</h2>\n",
       "    <p>Parágrafo 1.</p>\n",
       "  </body>\n",
       "\n",
       "</html> \n"
      ],
      "text/plain": [
       "<IPython.core.display.HTML object>"
      ]
     },
     "execution_count": 1,
     "metadata": {},
     "output_type": "execute_result"
    }
   ],
   "source": [
    "from IPython.display import HTML\n",
    "\n",
    "first_html = \"\"\"\n",
    "<!DOCTYPE html>\n",
    "<html>\n",
    "  <head>\n",
    "    <title>Page Title</title>\n",
    "  </head>\n",
    "  \n",
    "  <body>\n",
    "    <h1>Hello World</h1>\n",
    "    \n",
    "    <h2>Hello world header 2</h2>\n",
    "    <p>Parágrafo 1.</p>\n",
    "  </body>\n",
    "\n",
    "</html> \n",
    "\"\"\"\n",
    "\n",
    "HTML(first_html)"
   ]
  },
  {
   "cell_type": "markdown",
   "metadata": {},
   "source": [
    "# Agora explorando um pouco mais as tags.."
   ]
  },
  {
   "cell_type": "code",
   "execution_count": 22,
   "metadata": {},
   "outputs": [
    {
     "data": {
      "text/html": [
       "\n",
       "<html>\n",
       "<head>\n",
       "  <title>More HTML Tags</title>\n",
       "</head>\n",
       "<body>\n",
       "  <h1>Heading 1</h1>\n",
       "  <h2>Heading 2</h2>\n",
       "  <h3>Heading 3</h3>\n",
       "  <h4>Heading 4</h4>\n",
       "  <h5>Heading 5</h5>\n",
       "  <h6>Heading 6</h6>\n",
       "\n",
       "  <br>\n",
       "  \n",
       "  <a href=\"https://bigdata.com.br/\">Clique para ir ao site da empresa rs</a>\n",
       "\n",
       "  <ul>\n",
       "    <li>Elemento da lista</li>\n",
       "    <li>Outro elemento da lista</li>\n",
       "  </ul>\n",
       "\n",
       "  <ol>\n",
       "    <li>Primeiro elemento da lista ordenada</li>\n",
       "    <li>Segundo elemento da lista ordenada</li>\n",
       "  </ol>\n",
       "\n",
       "</body>\n",
       "</html>\n"
      ],
      "text/plain": [
       "<IPython.core.display.HTML object>"
      ]
     },
     "execution_count": 22,
     "metadata": {},
     "output_type": "execute_result"
    }
   ],
   "source": [
    "more_tags = \"\"\"\n",
    "<html>\n",
    "<head>\n",
    "  <title>More HTML Tags</title>\n",
    "</head>\n",
    "<body>\n",
    "  <h1>Heading 1</h1>\n",
    "  <h2>Heading 2</h2>\n",
    "  <h3>Heading 3</h3>\n",
    "  <h4>Heading 4</h4>\n",
    "  <h5>Heading 5</h5>\n",
    "  <h6>Heading 6</h6>\n",
    "\n",
    "  <br>\n",
    "  \n",
    "  <a href=\"https://bigdata.com.br/\">Clique para ir ao site da empresa rs</a>\n",
    "\n",
    "  <ul>\n",
    "    <li>Elemento da lista</li>\n",
    "    <li>Outro elemento da lista</li>\n",
    "  </ul>\n",
    "\n",
    "  <ol>\n",
    "    <li>Primeiro elemento da lista ordenada</li>\n",
    "    <li>Segundo elemento da lista ordenada</li>\n",
    "  </ol>\n",
    "\n",
    "</body>\n",
    "</html>\n",
    "\"\"\"\n",
    "\n",
    "HTML(more_tags)"
   ]
  },
  {
   "cell_type": "markdown",
   "metadata": {},
   "source": [
    "### Caso deseje saber mais sobre HTML e se aprofundar no assunto, um site muito recomendado é o http://www.w3schools.com/html/html_intro.asp"
   ]
  },
  {
   "cell_type": "markdown",
   "metadata": {},
   "source": [
    "# Voltando ao web scrapping..."
   ]
  },
  {
   "cell_type": "markdown",
   "metadata": {},
   "source": [
    "#### Inicialmente, quando vamos fazer um scrapping de uma página web, queremos saber onde os elementos (tags) HTML estão localizadas, para isso devemos olhar o código fonte da página a fim de localizar as coisas.\n",
    "\n",
    "#### Para isso, vamos entrar no endereço http://quotes.toscrape.com para começar a brincar com a biblioteca Scrapy"
   ]
  }
 ],
 "metadata": {
  "kernelspec": {
   "display_name": "Python 3",
   "language": "python",
   "name": "python3"
  },
  "language_info": {
   "codemirror_mode": {
    "name": "ipython",
    "version": 3
   },
   "file_extension": ".py",
   "mimetype": "text/x-python",
   "name": "python",
   "nbconvert_exporter": "python",
   "pygments_lexer": "ipython3",
   "version": "3.5.2"
  }
 },
 "nbformat": 4,
 "nbformat_minor": 2
}
